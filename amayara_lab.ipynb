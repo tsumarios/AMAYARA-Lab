{
 "cells": [
  {
   "cell_type": "markdown",
   "id": "b1e1367d-e7d6-4322-acf9-88d5472799d1",
   "metadata": {},
   "source": [
    "# アマヤラ Lab\n",
    "\n",
    "> by tsumarios\n",
    "\n",
    "The AMAYARA (Android Malware Analysis YARA) Lab project provides a ready-to-use Jupyter Lab environment to help out with Android malware analysis using YARA rules."
   ]
  },
  {
   "cell_type": "markdown",
   "id": "3eeed700-63dd-4e2a-a557-537774824750",
   "metadata": {},
   "source": [
    "### Prerequirements\n",
    "\n",
    "Before proceeding you need to import some modules, as well as specify some configurations.\n",
    "\n",
    "\n",
    "#### Dependencies\n",
    "\n",
    "The YARA Python library is required."
   ]
  },
  {
   "cell_type": "code",
   "execution_count": 1,
   "id": "8586dcc5-1987-48b1-a2eb-fb0f38c266d6",
   "metadata": {
    "collapsed": true,
    "jupyter": {
     "outputs_hidden": true
    },
    "tags": []
   },
   "outputs": [
    {
     "name": "stdout",
     "output_type": "stream",
     "text": [
      "Requirement already satisfied: yara-python in /Users/mario/Desktop/yara-notebook-MA/venv/lib/python3.9/site-packages (4.2.0)\n"
     ]
    }
   ],
   "source": [
    "!pip3 install yara-python"
   ]
  },
  {
   "cell_type": "markdown",
   "id": "8c5ab88c-3023-497d-99f7-7cd673d15a72",
   "metadata": {},
   "source": [
    "#### Imports"
   ]
  },
  {
   "cell_type": "code",
   "execution_count": 2,
   "id": "df7eafc6-ca7a-4612-a7f8-26788d2f32f8",
   "metadata": {},
   "outputs": [],
   "source": [
    "import os\n",
    "import json\n",
    "import yara\n",
    "from hashlib import md5, sha1, sha256\n",
    "from zipfile import ZipFile"
   ]
  },
  {
   "cell_type": "markdown",
   "id": "d2081e59-c732-478a-bab0-95e76866743e",
   "metadata": {},
   "source": [
    "#### Utils\n",
    "\n",
    "Implement some util functions."
   ]
  },
  {
   "cell_type": "code",
   "execution_count": 3,
   "id": "7fcacdf7-0832-4450-a808-bc94b9d3dc5a",
   "metadata": {},
   "outputs": [],
   "source": [
    "def get_file_digests(file):\n",
    "    md5_digest, sha1_digest, sha256_digest = md5(), sha1(), sha256()\n",
    "\n",
    "    with open(file, \"rb\") as f:\n",
    "        # Read and update hash in chunks of 4K\n",
    "        for byte_block in iter(lambda: f.read(4096), b''):\n",
    "            md5_digest.update(byte_block)\n",
    "            sha1_digest.update(byte_block)\n",
    "            sha256_digest.update(byte_block)\n",
    "\n",
    "    return md5_digest, sha1_digest, sha256_digest"
   ]
  },
  {
   "cell_type": "markdown",
   "id": "467a4909",
   "metadata": {},
   "source": [
    "## Include files and YARA rules\n",
    "\n",
    "You have to add the files that you want to analyse in the `files` folder (just create it if not present).\n",
    "YARA rules need to be added in the `rules` folder.\n",
    "\n",
    "*Note that you can also add them in subfolders as the script will take care of recursively iterating the path under files|rules.*\n",
    "\n",
    "### Settings\n",
    "\n",
    "Run the following code to get the files/rules paths and compile the latter.\n",
    "Please remember to re-run the following cell every time you add/delete files and/or rules."
   ]
  },
  {
   "cell_type": "code",
   "execution_count": 4,
   "id": "041bed5d-cec6-43e2-8759-e1f401a60566",
   "metadata": {},
   "outputs": [],
   "source": [
    "def get_paths(folder, extension):\n",
    "    paths = {}\n",
    "    for root, dirs, files in os.walk(folder, topdown=False):\n",
    "        for name in files:\n",
    "            if name.endswith(extension):\n",
    "                paths[name] = os.path.join(root, name)\n",
    "\n",
    "    return paths\n",
    "\n",
    "\n",
    "# Retrieve paths for apk file(s) and YARA rule(s)\n",
    "apk_files = get_paths('./files', '.apk')\n",
    "rules_paths = get_paths('./rules', '.yar')\n",
    "\n",
    "# Compile rules\n",
    "rules = yara.compile(filepaths=rules_paths)"
   ]
  },
  {
   "cell_type": "markdown",
   "id": "0d40d72f-b1d0-45a6-859a-21df7ea920e3",
   "metadata": {},
   "source": [
    "### Core\n",
    "\n",
    "The core of this lab. We define a couple of functions to analyse and scan the apk file(s) and its/their contents with the included YARA rules."
   ]
  },
  {
   "cell_type": "code",
   "execution_count": 5,
   "id": "15ee8470-e70c-4e27-954c-55f401220599",
   "metadata": {},
   "outputs": [],
   "source": [
    "def rules_scanner(file):\n",
    "    results = {}\n",
    "    for match in rules.match(file):\n",
    "        strings_list = []\n",
    "        for data in match.strings:\n",
    "            # The string output is a tuple (Location, Identifier, String)\n",
    "            string = data[2].decode(\"utf-8\")\n",
    "            if string not in strings_list:\n",
    "                strings_list.append(string)\n",
    "        results[match.rule] = strings_list\n",
    "\n",
    "    return results\n",
    "\n",
    "\n",
    "def analyse_files_in_apk(apk_file):\n",
    "    results = {}\n",
    "    # Extract the apk file into a temporary directory\n",
    "    with ZipFile(apk_file, 'r') as zipObj:\n",
    "        zipObj.extractall('tmp')\n",
    "        # Iterate all over the extracted files\n",
    "        for root, dirs, files in os.walk(\"tmp\", topdown=False):\n",
    "            for name in files:\n",
    "                file_path = os.path.join(root, name)\n",
    "                # Get results for the current file\n",
    "                result = rules_scanner(file_path)\n",
    "                if bool(result):\n",
    "                    results[name] = result\n",
    "            # Cleanup\n",
    "                os.remove(file_path)\n",
    "            for name in dirs:\n",
    "                os.rmdir(os.path.join(root, name))\n",
    "        os.rmdir('tmp')\n",
    "\n",
    "    return(results)\n",
    "\n",
    "\n",
    "def analyse_apk(apk_file):\n",
    "    # Initialise results with file info and digets\n",
    "    md5_digest, sha1_digest, sha256_digest = get_file_digests(apk_file)\n",
    "    results = {'file_name': os.path.basename(apk_file), 'digests': {'md5': md5_digest.hexdigest(),\n",
    "               'sha1': sha1_digest.hexdigest(), 'sha256': sha256_digest.hexdigest()}, 'result': {}}\n",
    "\n",
    "    # Scan APK and its content\n",
    "    results['result']['apk'] = rules_scanner(apk_file) or {}\n",
    "    results['result']['apk_content'] = analyse_files_in_apk(apk_file) or {}\n",
    "\n",
    "    # Save and print results\n",
    "    with open(f'./results/result_{md5_digest.hexdigest()}.json', 'w') as json_file:\n",
    "        json.dump(results, json_file)\n",
    "    print(results)\n",
    "\n",
    "\n",
    "def run():\n",
    "    # Scan all apk files\n",
    "    for apk_file in apk_files.values():\n",
    "        analyse_apk(apk_file)"
   ]
  },
  {
   "cell_type": "markdown",
   "id": "0f4ce6c3-81e3-49ef-914d-46b32a68f158",
   "metadata": {},
   "source": [
    "## Usage\n",
    "\n",
    "The script can simply be executed by invoking the `run()` function. The results will be displayed below and stored as a JSON file in the results folder with the following format: `results/results_<apk_md5_digest>.json`."
   ]
  },
  {
   "cell_type": "code",
   "execution_count": 6,
   "id": "a5333197-2560-4c95-9ecf-1dc71015c2b9",
   "metadata": {},
   "outputs": [
    {
     "name": "stdout",
     "output_type": "stream",
     "text": [
      "{'file_name': 'Battery Charging Animation Bubble Effects.apk', 'digests': {'md5': 'f47b1ccd4d1ecee1f71f301b10f8ae9a', 'sha1': 'dbed4917fa7cc0e3d9df6a21a222c3156f1394b9', 'sha256': 'd3810acc806c4123b6b41ff85e29bf8b5b823be3e4f4ce5a8d76cff3dfd92e4f'}, 'result': {'apk': {'Joker_Payload2': ['assets/62vrr5qqq6']}, 'apk_content': {'62vrr5qqq6': {'Joker_Payload2': ['MF8zXzEgbGlrZSBNYWMgT1MgWCkgQXBwbGVXZWJLaXQvNjAzLjEuMzAgKEtIVE1MLCBs']}}}}\n"
     ]
    }
   ],
   "source": [
    "run()"
   ]
  }
 ],
 "metadata": {
  "kernelspec": {
   "display_name": "Python 3 (ipykernel)",
   "language": "python",
   "name": "python3"
  },
  "language_info": {
   "codemirror_mode": {
    "name": "ipython",
    "version": 3
   },
   "file_extension": ".py",
   "mimetype": "text/x-python",
   "name": "python",
   "nbconvert_exporter": "python",
   "pygments_lexer": "ipython3",
   "version": "3.9.12"
  }
 },
 "nbformat": 4,
 "nbformat_minor": 5
}
